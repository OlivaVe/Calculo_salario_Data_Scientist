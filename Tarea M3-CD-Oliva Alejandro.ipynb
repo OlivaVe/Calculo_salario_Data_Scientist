{
 "cells": [
  {
   "cell_type": "markdown",
   "metadata": {},
   "source": [
    "# Práctica\n",
    "Escribe un código en Python que solicite al usuario dos valores: el número de horas laboradas por un trabajador en una semana y su tarifa de pago por hora.\n",
    "El programa deberá calcular el total a pagar al trabajador de acuerdo a las siguientes reglas:\n",
    "a) Si el número de horas trabajadas es menor o igual a 40 el monto a pagar es el número de horas multiplicado por su tarifa de pago por hora.        \n",
    "\n",
    "b) Si el número de horas trabajadas es mayor a 40 pero menor o igual a 50, el monto a pagar es el mismo que en el inciso a)  más la diferencia en horaspor arriba de 40 a una tasa por hora 10% más alta de la tarifa básica.\n",
    "\n",
    "c) Si el número de horas trabajadas es mayor a 50, el monto a pagar es el mismo que en el inciso b)  más la diferencia en horas por arriba de 50 a una tasa por hora 20% más alta de la tarifa básica.        \n",
    "\n",
    "d) En caso de que alguno de los valores capturados inicialmente (número de horas trabajadas por semana o tarifa de pago por hora) sea errónea (ya sea debido a la captura de valores negativos o de texto), deberá imprimirse un mensaje que diga “Parámetros incorrectos”. "
   ]
  },
  {
   "cell_type": "code",
   "execution_count": 1,
   "metadata": {},
   "outputs": [],
   "source": [
    "def calcular_salario_semanal():\n",
    "    try: # Try para evitar cualquier posible error en la captura de datos\n",
    "        horas = int(input('¿Cuantas horas trabajas a la semana?:')) # Guardando informacion en horas\n",
    "        costo = int(input('¿En cuanto se te paga la hora?:'))       # Guardando información en costo\n",
    "\n",
    "        # La existencia de esta linea es para generear un error si es que horas o costo no fueron enteros.\n",
    "        # ya que b = int() y horas = int(...) al igual que costo, si no fueran enteros no podrían convertirlos\n",
    "        # a enteros y al intentar sumar horas y costos no daría enteros y al intentar meter ese valor a b\n",
    "        # el sistema fallaría.\n",
    "        b = horas + costo\n",
    "        \n",
    "        # print( f\"{horas} horas trabajadas a la semana a un costo de {costo} la hora\")\n",
    "        # Funcionaba para confirmar que el código estuviera bien.\n",
    "        # devolvemos horas y costo para que la siguente funcion pueda usar esa información\n",
    "        return horas, costo\n",
    "    except: # Si surgiera cualquier error en la ejecución de los códigos superiores se usa el print.\n",
    "        print('Los datos introducidos no son numero enteros.\\nParametros incorrectos.')\n",
    "        # devolvemos los valores en none para que la siguiente función tenga banderas necesarias para marcar el error.\n",
    "        return None, None"
   ]
  },
  {
   "cell_type": "code",
   "execution_count": 2,
   "metadata": {},
   "outputs": [],
   "source": [
    "# Definiendo en función para los casos siguientes\n",
    "def calcular_pago_total():\n",
    "    # Llamando a la funcion \"calcular_salario_semanal()\" para obtener los valores y que \n",
    "    # todo se haga desde una sola función.\n",
    "    horas, costo = calcular_salario_semanal()\n",
    "    if horas is None or costo is None:\n",
    "        return\n",
    "    # Creando una variable float sabiendo que cuando las horas sean más de 40 el restante se \n",
    "    # tendrá que multiplicar por un valor no entero 10% o 20%\n",
    "    pago = float()\n",
    "    # Cuando la horas sean 40 o menos\n",
    "    if horas <= 40:\n",
    "        pago = horas * costo\n",
    "    # Cuando las horas sean más de 40 y menos de 50\n",
    "    elif horas > 40 and horas <= 50:\n",
    "        # Generamos una bandera para guardar ese pago\n",
    "        flag40 = 40 * costo\n",
    "        # Restamos esas 40 horas para con el resto hacer el tratamiento de ellas \n",
    "        horas -= 40\n",
    "        # Sumamos el costo de las 40 horas normales y las subsecuentes a mayor\n",
    "        pago = horas * ( costo * 1.1 ) + flag40\n",
    "    # Cuando el trajador hace más de 50 horas\n",
    "    elif horas > 50:\n",
    "        # Bandera de 40\n",
    "        flag40 = 40 * costo\n",
    "        # Bandera de las 10 siguientes porque son más de 50\n",
    "        flag50 = 10 * ( costo * 1.1 )\n",
    "        # Reducción de las primeroas 50 horas\n",
    "        horas -= 50 \n",
    "        # Tratamiento de las ultimas horas \"Mayores a 50\" mas la suma de las primeras 50 ya tratadas\n",
    "        pago = horas * ( costo * 1.2 ) + flag40 + flag50\n",
    "    # Pago dependiendo el caso. \n",
    "    print(pago)"
   ]
  },
  {
   "cell_type": "markdown",
   "metadata": {},
   "source": [
    "#### Caso 1: Número de horas trabajadas: 35 , Tarifa por hora: 10  "
   ]
  },
  {
   "cell_type": "code",
   "execution_count": 3,
   "metadata": {},
   "outputs": [
    {
     "name": "stdout",
     "output_type": "stream",
     "text": [
      "350\n"
     ]
    }
   ],
   "source": [
    "calcular_pago_total()"
   ]
  },
  {
   "cell_type": "markdown",
   "metadata": {},
   "source": [
    "#### Caso 2: Número de horas trabajadas: 47 , Tarifa por hora: 8"
   ]
  },
  {
   "cell_type": "code",
   "execution_count": 4,
   "metadata": {},
   "outputs": [
    {
     "name": "stdout",
     "output_type": "stream",
     "text": [
      "381.6\n"
     ]
    }
   ],
   "source": [
    "calcular_pago_total()"
   ]
  },
  {
   "cell_type": "markdown",
   "metadata": {},
   "source": [
    "#### Caso 3: Número de horas trabajadas: 65 , Tarifa por hora: 15"
   ]
  },
  {
   "cell_type": "code",
   "execution_count": 5,
   "metadata": {},
   "outputs": [
    {
     "name": "stdout",
     "output_type": "stream",
     "text": [
      "1035.0\n"
     ]
    }
   ],
   "source": [
    "calcular_pago_total()"
   ]
  }
 ],
 "metadata": {
  "kernelspec": {
   "display_name": "base",
   "language": "python",
   "name": "python3"
  },
  "language_info": {
   "codemirror_mode": {
    "name": "ipython",
    "version": 3
   },
   "file_extension": ".py",
   "mimetype": "text/x-python",
   "name": "python",
   "nbconvert_exporter": "python",
   "pygments_lexer": "ipython3",
   "version": "3.9.13"
  }
 },
 "nbformat": 4,
 "nbformat_minor": 2
}
